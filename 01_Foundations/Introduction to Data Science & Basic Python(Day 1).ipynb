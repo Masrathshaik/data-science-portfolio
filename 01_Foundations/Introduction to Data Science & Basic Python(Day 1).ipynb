{
 "cells": [
  {
   "cell_type": "markdown",
   "id": "509495a3-6a08-460b-8b46-c5643e35853e",
   "metadata": {},
   "source": [
    "Day 1: Introduction to Data Science & Basic Python"
   ]
  },
  {
   "cell_type": "markdown",
   "id": "f81fb8e9-58df-4860-be9d-412431548433",
   "metadata": {},
   "source": [
    "Basic Python"
   ]
  },
  {
   "cell_type": "code",
   "execution_count": 1,
   "id": "fca43483-31b4-48fe-991c-48c7e035cd1e",
   "metadata": {},
   "outputs": [
    {
     "name": "stdout",
     "output_type": "stream",
     "text": [
      "Welcome to Data Science!\n"
     ]
    }
   ],
   "source": [
    "print(\"Welcome to Data Science!\")"
   ]
  },
  {
   "cell_type": "code",
   "execution_count": 2,
   "id": "b6bb2e1f-c1fb-49d9-9581-6fed6047e26b",
   "metadata": {},
   "outputs": [
    {
     "name": "stdout",
     "output_type": "stream",
     "text": [
      "Sum: 15\n"
     ]
    }
   ],
   "source": [
    "# Simple calculation\n",
    "a = 10\n",
    "b = 5\n",
    "print(\"Sum:\", a+b)"
   ]
  },
  {
   "cell_type": "code",
   "execution_count": 3,
   "id": "c9cb13a0-9724-46b4-b173-21489f59de0c",
   "metadata": {},
   "outputs": [
    {
     "name": "stdout",
     "output_type": "stream",
     "text": [
      "Average: 3.0\n"
     ]
    }
   ],
   "source": [
    "# Python list\n",
    "data = [1, 2, 3, 4, 5]\n",
    "print(\"Average:\", sum(data)/len(data))"
   ]
  },
  {
   "cell_type": "code",
   "execution_count": null,
   "id": "d6f2b48f-c60e-4ba8-ba3d-50aeff043597",
   "metadata": {},
   "outputs": [],
   "source": []
  },
  {
   "cell_type": "markdown",
   "id": "74b6219b-6d8c-49dc-a071-16084ae2bdd3",
   "metadata": {},
   "source": [
    "Using Libraries (NumPy & Pandas)"
   ]
  },
  {
   "cell_type": "code",
   "execution_count": 5,
   "id": "766ab54c-734b-4bb6-a215-ecc574576a8b",
   "metadata": {},
   "outputs": [],
   "source": [
    "import numpy as np\n",
    "import pandas as pd"
   ]
  },
  {
   "cell_type": "code",
   "execution_count": 6,
   "id": "eedb9892-c23b-4873-8089-fe0717fc03e7",
   "metadata": {},
   "outputs": [
    {
     "name": "stdout",
     "output_type": "stream",
     "text": [
      "Mean using NumPy: 3.0\n"
     ]
    }
   ],
   "source": [
    "# NumPy array\n",
    "arr = np.array([1, 2, 3, 4, 5])\n",
    "print(\"Mean using NumPy:\", np.mean(arr))"
   ]
  },
  {
   "cell_type": "code",
   "execution_count": 8,
   "id": "039e0770-e590-46cc-a53b-fb83569f8efe",
   "metadata": {},
   "outputs": [
    {
     "name": "stdout",
     "output_type": "stream",
     "text": [
      "       Name  Score\n",
      "0  Gouthami     85\n",
      "1   Masrath     90\n",
      "2  Chandana     78\n"
     ]
    }
   ],
   "source": [
    "# Pandas DataFrame\n",
    "data = {'Name': ['Gouthami', 'Masrath', 'Chandana'],\n",
    "        'Score': [85, 90, 78]}\n",
    "df = pd.DataFrame(data)\n",
    "print(df)"
   ]
  },
  {
   "cell_type": "code",
   "execution_count": null,
   "id": "df1fa69b-f9c2-4128-ac48-b86d5990bb0d",
   "metadata": {},
   "outputs": [],
   "source": []
  },
  {
   "cell_type": "markdown",
   "id": "6450fc07-61cb-4601-96de-b065853eb894",
   "metadata": {},
   "source": [
    "Mini Project"
   ]
  },
  {
   "cell_type": "code",
   "execution_count": 5,
   "id": "e03a1d23-e1c1-4c98-a491-5ae9b8150287",
   "metadata": {},
   "outputs": [
    {
     "name": "stdout",
     "output_type": "stream",
     "text": [
      "First 5 rows:\n",
      "   Row ID        Order ID Order Date  Ship Date       Ship Mode Customer ID  \\\n",
      "0       1  CA-2020-152156 2020-11-08 2020-11-11    Second Class    CG-12520   \n",
      "1       2  CA-2020-152156 2020-11-08 2020-11-11    Second Class    CG-12520   \n",
      "2       3  CA-2020-138688 2020-06-12 2020-06-16    Second Class    DV-13045   \n",
      "3       4  US-2019-108966 2019-10-11 2019-10-18  Standard Class    SO-20335   \n",
      "4       5  US-2019-108966 2019-10-11 2019-10-18  Standard Class    SO-20335   \n",
      "\n",
      "     Customer Name    Segment Country/Region             City  ...  \\\n",
      "0      Claire Gute   Consumer  United States        Henderson  ...   \n",
      "1      Claire Gute   Consumer  United States        Henderson  ...   \n",
      "2  Darrin Van Huff  Corporate  United States      Los Angeles  ...   \n",
      "3   Sean O'Donnell   Consumer  United States  Fort Lauderdale  ...   \n",
      "4   Sean O'Donnell   Consumer  United States  Fort Lauderdale  ...   \n",
      "\n",
      "  Postal Code  Region       Product ID         Category Sub-Category  \\\n",
      "0     42420.0   South  FUR-BO-10001798        Furniture    Bookcases   \n",
      "1     42420.0   South  FUR-CH-10000454        Furniture       Chairs   \n",
      "2     90036.0    West  OFF-LA-10000240  Office Supplies       Labels   \n",
      "3     33311.0   South  FUR-TA-10000577        Furniture       Tables   \n",
      "4     33311.0   South  OFF-ST-10000760  Office Supplies      Storage   \n",
      "\n",
      "                                        Product Name     Sales  Quantity  \\\n",
      "0                  Bush Somerset Collection Bookcase  261.9600         2   \n",
      "1  Hon Deluxe Fabric Upholstered Stacking Chairs,...  731.9400         3   \n",
      "2  Self-Adhesive Address Labels for Typewriters b...   14.6200         2   \n",
      "3      Bretford CR4500 Series Slim Rectangular Table  957.5775         5   \n",
      "4                     Eldon Fold 'N Roll Cart System   22.3680         2   \n",
      "\n",
      "   Discount    Profit  \n",
      "0      0.00   41.9136  \n",
      "1      0.00  219.5820  \n",
      "2      0.00    6.8714  \n",
      "3      0.45 -383.0310  \n",
      "4      0.20    2.5164  \n",
      "\n",
      "[5 rows x 21 columns]\n",
      "Total Sales: 2297200.8603000003\n",
      "Average Profit: 28.656896307784663\n",
      "Unique Customers: 793\n"
     ]
    }
   ],
   "source": [
    "import pandas as pd\n",
    "\n",
    "# Load dataset\n",
    "df = pd.read_excel(\"Sample - Superstore.xlsx\")\n",
    "\n",
    "# Basic EDA\n",
    "print(\"First 5 rows:\")\n",
    "print(df.head())\n",
    "\n",
    "print(\"Total Sales:\", df['Sales'].sum())\n",
    "print(\"Average Profit:\", df['Profit'].mean())\n",
    "print(\"Unique Customers:\", df['Customer Name'].nunique())"
   ]
  },
  {
   "cell_type": "code",
   "execution_count": null,
   "id": "59de5eeb-393f-474c-af85-98ff7488610d",
   "metadata": {},
   "outputs": [],
   "source": []
  }
 ],
 "metadata": {
  "kernelspec": {
   "display_name": "Python [conda env:base] *",
   "language": "python",
   "name": "conda-base-py"
  },
  "language_info": {
   "codemirror_mode": {
    "name": "ipython",
    "version": 3
   },
   "file_extension": ".py",
   "mimetype": "text/x-python",
   "name": "python",
   "nbconvert_exporter": "python",
   "pygments_lexer": "ipython3",
   "version": "3.12.7"
  }
 },
 "nbformat": 4,
 "nbformat_minor": 5
}
